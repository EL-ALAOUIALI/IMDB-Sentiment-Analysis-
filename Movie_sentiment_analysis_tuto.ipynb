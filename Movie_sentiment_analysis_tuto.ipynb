{
  "nbformat": 4,
  "nbformat_minor": 0,
  "metadata": {
    "accelerator": "GPU",
    "colab": {
      "name": "Movie sentiment analysis tuto.ipynb",
      "provenance": [],
      "collapsed_sections": [],
      "toc_visible": true
    },
    "kernelspec": {
      "display_name": "Python 3",
      "name": "python3"
    }
  },
  "cells": [
    {
      "cell_type": "markdown",
      "metadata": {
        "id": "YrfsgegzpG9P"
      },
      "source": [
        "# Sentiment Analysis on IMDB Reviews using LSTM and BILSTM and Keras\n",
        "Realised by :EL-ALAOUI Ali & Adnane HAKEM"
      ]
    },
    {
      "cell_type": "markdown",
      "metadata": {
        "id": "GE79X479pel-"
      },
      "source": [
        "### Importing Required Libraries"
      ]
    },
    {
      "cell_type": "code",
      "metadata": {
        "id": "A9ifQEifpUXk"
      },
      "source": [
        "import pandas as pd\r\n",
        "import numpy as np\r\n",
        "import re\r\n",
        "import nltk\r\n",
        "from numpy import array\r\n",
        "from keras.preprocessing.text import one_hot\r\n",
        "from keras.preprocessing.sequence import pad_sequences\r\n",
        "from keras.models import Sequential\r\n",
        "from keras.layers import LSTM,Activation, Dropout, Dense,Bidirectional\r\n",
        "from keras.callbacks import ModelCheckpoint\r\n",
        "from keras.layers.embeddings import Embedding\r\n",
        "from sklearn.model_selection import train_test_split\r\n",
        "from keras.preprocessing.text import Tokenizer\r\n",
        "from keras.regularizers import l1,l2\r\n",
        "from  matplotlib import pyplot as plt"
      ],
      "execution_count": null,
      "outputs": []
    },
    {
      "cell_type": "markdown",
      "metadata": {
        "id": "etPNt-bKqSNt"
      },
      "source": [
        "### Importing and Analyzing the Dataset"
      ]
    },
    {
      "cell_type": "code",
      "metadata": {
        "colab": {
          "base_uri": "https://localhost:8080/"
        },
        "id": "WcAcjOZ9qWBq",
        "outputId": "0391614e-2201-4506-adc7-2262bae061a6"
      },
      "source": [
        "movie_reviews = pd.read_csv(\"/content/drive/MyDrive/Colab Notebooks/IMDB Dataset.csv\")\r\n",
        "\r\n",
        "#movie_reviews.isnull().values.any()\r\n",
        "\r\n",
        "movie_reviews.shape"
      ],
      "execution_count": null,
      "outputs": [
        {
          "output_type": "execute_result",
          "data": {
            "text/plain": [
              "(50000, 2)"
            ]
          },
          "metadata": {
            "tags": []
          },
          "execution_count": 7
        }
      ]
    },
    {
      "cell_type": "code",
      "metadata": {
        "colab": {
          "base_uri": "https://localhost:8080/",
          "height": 204
        },
        "id": "C0V6zttjs8Dg",
        "outputId": "de6cd820-3141-42da-a2d8-f31a6bd25f45"
      },
      "source": [
        "\r\n",
        "movie_reviews.head()\r\n"
      ],
      "execution_count": null,
      "outputs": [
        {
          "output_type": "execute_result",
          "data": {
            "text/html": [
              "<div>\n",
              "<style scoped>\n",
              "    .dataframe tbody tr th:only-of-type {\n",
              "        vertical-align: middle;\n",
              "    }\n",
              "\n",
              "    .dataframe tbody tr th {\n",
              "        vertical-align: top;\n",
              "    }\n",
              "\n",
              "    .dataframe thead th {\n",
              "        text-align: right;\n",
              "    }\n",
              "</style>\n",
              "<table border=\"1\" class=\"dataframe\">\n",
              "  <thead>\n",
              "    <tr style=\"text-align: right;\">\n",
              "      <th></th>\n",
              "      <th>review</th>\n",
              "      <th>sentiment</th>\n",
              "    </tr>\n",
              "  </thead>\n",
              "  <tbody>\n",
              "    <tr>\n",
              "      <th>0</th>\n",
              "      <td>One of the other reviewers has mentioned that ...</td>\n",
              "      <td>positive</td>\n",
              "    </tr>\n",
              "    <tr>\n",
              "      <th>1</th>\n",
              "      <td>A wonderful little production. &lt;br /&gt;&lt;br /&gt;The...</td>\n",
              "      <td>positive</td>\n",
              "    </tr>\n",
              "    <tr>\n",
              "      <th>2</th>\n",
              "      <td>I thought this was a wonderful way to spend ti...</td>\n",
              "      <td>positive</td>\n",
              "    </tr>\n",
              "    <tr>\n",
              "      <th>3</th>\n",
              "      <td>Basically there's a family where a little boy ...</td>\n",
              "      <td>negative</td>\n",
              "    </tr>\n",
              "    <tr>\n",
              "      <th>4</th>\n",
              "      <td>Petter Mattei's \"Love in the Time of Money\" is...</td>\n",
              "      <td>positive</td>\n",
              "    </tr>\n",
              "  </tbody>\n",
              "</table>\n",
              "</div>"
            ],
            "text/plain": [
              "                                              review sentiment\n",
              "0  One of the other reviewers has mentioned that ...  positive\n",
              "1  A wonderful little production. <br /><br />The...  positive\n",
              "2  I thought this was a wonderful way to spend ti...  positive\n",
              "3  Basically there's a family where a little boy ...  negative\n",
              "4  Petter Mattei's \"Love in the Time of Money\" is...  positive"
            ]
          },
          "metadata": {
            "tags": []
          },
          "execution_count": 8
        }
      ]
    },
    {
      "cell_type": "code",
      "metadata": {
        "colab": {
          "base_uri": "https://localhost:8080/",
          "height": 120
        },
        "id": "Ou3TkdCes_7J",
        "outputId": "ffa7723c-01c8-490e-8058-a7d651435168"
      },
      "source": [
        "movie_reviews[\"review\"][10]"
      ],
      "execution_count": null,
      "outputs": [
        {
          "output_type": "execute_result",
          "data": {
            "application/vnd.google.colaboratory.intrinsic+json": {
              "type": "string"
            },
            "text/plain": [
              "'Phil the Alien is one of those quirky films where the humour is based around the oddness of everything rather than actual punchlines.<br /><br />At first it was very odd and pretty funny but as the movie progressed I didn\\'t find the jokes or oddness funny anymore.<br /><br />Its a low budget film (thats never a problem in itself), there were some pretty interesting characters, but eventually I just lost interest.<br /><br />I imagine this film would appeal to a stoner who is currently partaking.<br /><br />For something similar but better try \"Brother from another planet\"'"
            ]
          },
          "metadata": {
            "tags": []
          },
          "execution_count": 9
        }
      ]
    },
    {
      "cell_type": "markdown",
      "metadata": {
        "id": "xK2_6DJptpol"
      },
      "source": [
        "You can see that our text contains punctuations, brackets, and a few HTML tags as well. We will preprocess this text in the next section."
      ]
    },
    {
      "cell_type": "code",
      "metadata": {
        "colab": {
          "base_uri": "https://localhost:8080/",
          "height": 35
        },
        "id": "yIL-VhKgtHfm",
        "outputId": "779b8638-2ffb-4023-eda2-e17bc523a272"
      },
      "source": [
        "movie_reviews[\"sentiment\"][10]"
      ],
      "execution_count": null,
      "outputs": [
        {
          "output_type": "execute_result",
          "data": {
            "application/vnd.google.colaboratory.intrinsic+json": {
              "type": "string"
            },
            "text/plain": [
              "'negative'"
            ]
          },
          "metadata": {
            "tags": []
          },
          "execution_count": 10
        }
      ]
    },
    {
      "cell_type": "markdown",
      "metadata": {
        "id": "a_YAG_1ttzKx"
      },
      "source": [
        "let's see the distribution of positive and negative sentiments in our dataset."
      ]
    },
    {
      "cell_type": "code",
      "metadata": {
        "colab": {
          "base_uri": "https://localhost:8080/",
          "height": 296
        },
        "id": "V2A2eJLbt1ix",
        "outputId": "e0dd8a43-9447-4e23-abd3-b13708abde85"
      },
      "source": [
        "import seaborn as sns\r\n",
        "\r\n",
        "sns.countplot(x='sentiment', data=movie_reviews)"
      ],
      "execution_count": null,
      "outputs": [
        {
          "output_type": "execute_result",
          "data": {
            "text/plain": [
              "<matplotlib.axes._subplots.AxesSubplot at 0x7f881be127b8>"
            ]
          },
          "metadata": {
            "tags": []
          },
          "execution_count": 14
        },
        {
          "output_type": "display_data",
          "data": {
            "image/png": "[encoded data removed]",
            "text/plain": [
              "<Figure size 432x288 with 1 Axes>"
            ]
          },
          "metadata": {
            "tags": [],
            "needs_background": "light"
          }
        }
      ]
    },
    {
      "cell_type": "code",
      "metadata": {
        "colab": {
          "base_uri": "https://localhost:8080/"
        },
        "id": "jCVZSpB5_5R9",
        "outputId": "72f72d88-50d6-497d-d979-fcec9839888d"
      },
      "source": [
        "import nltk\r\n",
        "nltk.download('stopwords')\r\n",
        "from nltk.corpus import stopwords  \r\n",
        "english_stops= set(stopwords.words('english'))"
      ],
      "execution_count": null,
      "outputs": [
        {
          "output_type": "stream",
          "text": [
            "[nltk_data] Downloading package stopwords to /root/nltk_data...\n",
            "[nltk_data]   Unzipping corpora/stopwords.zip.\n"
          ],
          "name": "stdout"
        }
      ]
    },
    {
      "cell_type": "markdown",
      "metadata": {
        "id": "QWr0zJzEuCeN"
      },
      "source": [
        "### Data Preprocessing\r\n",
        "We saw that our dataset contained punctuations and HTML tags. In this section we will define a function that takes a text string as a parameter and then performs preprocessing on the string to remove special characters and HTML tags from the string. Finally, the string is returned to the calling function. Look at the following script:"
      ]
    },
    {
      "cell_type": "markdown",
      "metadata": {
        "id": "gKqsXnto22J0"
      },
      "source": [
        "we will preprocess our reviews and will store them in a new list as shown below:"
      ]
    },
    {
      "cell_type": "code",
      "metadata": {
        "id": "8Xstk4t30tES"
      },
      "source": [
        "def preprocess_text():\n",
        "    x_data = movie_reviews['review']       # Reviews/Input\n",
        "    y_data = movie_reviews['sentiment']    # Sentiment/Output\n",
        "\n",
        "    # PRE-PROCESS REVIEW\n",
        "    x_data = x_data.replace({'<.*?>': ''}, regex = True)          # remove html tag\n",
        "    x_data = x_data.replace({'[^A-Za-z]': ' '}, regex = True)     # remove non alphabet\n",
        "    x_data = x_data.apply(lambda review: [w for w in review.split() if w not in english_stops])  # remove stop words\n",
        "    x_data = x_data.apply(lambda review: [w.lower() for w in review])   # lower case\n",
        "    \n",
        "    # ENCODE SENTIMENT -> 0 & 1\n",
        "    y_data = y_data.replace('positive', 1)\n",
        "    y_data = y_data.replace('negative', 0)\n",
        "\n",
        "    return x_data, y_data"
      ],
      "execution_count": null,
      "outputs": []
    },
    {
      "cell_type": "code",
      "metadata": {
        "id": "ueyCGhHk1eFo"
      },
      "source": [
        "x_data, y_data=preprocess_text()"
      ],
      "execution_count": null,
      "outputs": []
    },
    {
      "cell_type": "markdown",
      "metadata": {
        "id": "KlzM9YzIvGnG"
      },
      "source": [
        "we will preprocess our reviews and will store them in a new list as shown below:"
      ]
    },
    {
      "cell_type": "code",
      "metadata": {
        "colab": {
          "base_uri": "https://localhost:8080/",
          "height": 137
        },
        "id": "FAQybEW8wPPZ",
        "outputId": "0f22c375-2dbe-41c0-8a58-1901a2cc0afc"
      },
      "source": [
        "print(\"Before preprossing\")\r\n",
        "movie_reviews[\"review\"][10]"
      ],
      "execution_count": null,
      "outputs": [
        {
          "output_type": "stream",
          "text": [
            "Before preprossing\n"
          ],
          "name": "stdout"
        },
        {
          "output_type": "execute_result",
          "data": {
            "application/vnd.google.colaboratory.intrinsic+json": {
              "type": "string"
            },
            "text/plain": [
              "'Phil the Alien is one of those quirky films where the humour is based around the oddness of everything rather than actual punchlines.<br /><br />At first it was very odd and pretty funny but as the movie progressed I didn\\'t find the jokes or oddness funny anymore.<br /><br />Its a low budget film (thats never a problem in itself), there were some pretty interesting characters, but eventually I just lost interest.<br /><br />I imagine this film would appeal to a stoner who is currently partaking.<br /><br />For something similar but better try \"Brother from another planet\"'"
            ]
          },
          "metadata": {
            "tags": []
          },
          "execution_count": 11
        }
      ]
    },
    {
      "cell_type": "code",
      "metadata": {
        "colab": {
          "base_uri": "https://localhost:8080/",
          "height": 103
        },
        "id": "-CJR9OSIvaoT",
        "outputId": "6436ea5f-4261-4d38-aa00-dd68d9c110c3"
      },
      "source": [
        "print(\"After preprossing\")\r\n",
        "' '.join(x_data[10])"
      ],
      "execution_count": null,
      "outputs": [
        {
          "output_type": "stream",
          "text": [
            "After preprossing\n"
          ],
          "name": "stdout"
        },
        {
          "output_type": "execute_result",
          "data": {
            "application/vnd.google.colaboratory.intrinsic+json": {
              "type": "string"
            },
            "text/plain": [
              "'phil alien one quirky films humour based around oddness everything rather actual punchlines at first odd pretty funny movie progressed i find jokes oddness funny anymore its low budget film thats never problem pretty interesting characters eventually i lost interest i imagine film would appeal stoner currently partaking for something similar better try brother another planet'"
            ]
          },
          "metadata": {
            "tags": []
          },
          "execution_count": 18
        }
      ]
    },
    {
      "cell_type": "markdown",
      "metadata": {
        "id": "_xEZZAKqxEc6"
      },
      "source": [
        "Finally, we need to divide our dataset into train and test sets. The train set will be used to train our deep learning models while the test set will be used to evaluate how well our model performs.\r\n",
        "\r\n",
        "We can use train_test_split method from the sklearn.model.selection module, as shown below:"
      ]
    },
    {
      "cell_type": "code",
      "metadata": {
        "colab": {
          "base_uri": "https://localhost:8080/"
        },
        "id": "OsfIe473xD3t",
        "outputId": "090fcacc-0b11-46bd-a6b4-6b5e7ea42a09"
      },
      "source": [
        "x_train, x_test, y_train, y_test = train_test_split(x_data,y_data, test_size=0.20, random_state=42)\n",
        "print('Train Set')\n",
        "print(x_train, '\\n')\n",
        "print(x_test, '\\n')\n",
        "print('Test Set')\n",
        "print(y_train, '\\n')\n",
        "print(y_test)"
      ],
      "execution_count": null,
      "outputs": [
        {
          "output_type": "stream",
          "text": [
            "Train Set\n",
            "39087    [that, i, kept, asking, many, fights, screamin...\n",
            "30893    [i, watch, entire, movie, i, could, watch, ent...\n",
            "45278    [a, touching, love, story, reminiscent, in, mo...\n",
            "16398    [this, latter, day, fulci, schlocker, totally,...\n",
            "13653    [first, i, firmly, believe, norwegian, movies,...\n",
            "                               ...                        \n",
            "11284    [shadow, magic, recaptures, joy, amazement, fi...\n",
            "44732    [i, found, movie, quite, enjoyable, fairly, en...\n",
            "38158    [avoid, one, it, terrible, movie, so, exciting...\n",
            "860      [this, production, quite, surprise, i, absolut...\n",
            "15795    [this, decent, movie, although, little, bit, s...\n",
            "Name: review, Length: 40000, dtype: object \n",
            "\n",
            "33553    [i, really, liked, summerslam, due, look, aren...\n",
            "9427     [not, many, television, shows, appeal, quite, ...\n",
            "199      [the, film, quickly, gets, major, chase, scene...\n",
            "12447    [jane, austen, would, definitely, approve, one...\n",
            "39489    [expectations, somewhat, high, i, went, see, m...\n",
            "                               ...                        \n",
            "28567    [although, casper, van, dien, michael, rooker,...\n",
            "25079    [i, liked, movie, i, really, sure, i, started,...\n",
            "18707    [yes, non, singaporean, see, big, deal, film, ...\n",
            "15200    [as, far, films, go, likable, enough, entertai...\n",
            "5857     [i, saw, anatomy, years, ago, dubbed, friends,...\n",
            "Name: review, Length: 10000, dtype: object \n",
            "\n",
            "Test Set\n",
            "39087    0\n",
            "30893    0\n",
            "45278    1\n",
            "16398    0\n",
            "13653    0\n",
            "        ..\n",
            "11284    1\n",
            "44732    1\n",
            "38158    0\n",
            "860      1\n",
            "15795    1\n",
            "Name: sentiment, Length: 40000, dtype: int64 \n",
            "\n",
            "33553    1\n",
            "9427     1\n",
            "199      0\n",
            "12447    1\n",
            "39489    0\n",
            "        ..\n",
            "28567    0\n",
            "25079    1\n",
            "18707    1\n",
            "15200    0\n",
            "5857     1\n",
            "Name: sentiment, Length: 10000, dtype: int64\n"
          ],
          "name": "stdout"
        }
      ]
    },
    {
      "cell_type": "markdown",
      "metadata": {
        "id": "SOS2ieOIxg3d"
      },
      "source": [
        "### Preparing the Embedding Layer"
      ]
    },
    {
      "cell_type": "markdown",
      "metadata": {
        "id": "auWKr0s_x7MD"
      },
      "source": [
        "As a first step, we will use the Tokenizer class from the keras.preprocessing.text module to create a word-to-index dictionary. In the word-to-index dictionary, each word in the corpus is used as a key, while a corresponding unique index is used as the value for the key. "
      ]
    },
    {
      "cell_type": "code",
      "metadata": {
        "colab": {
          "base_uri": "https://localhost:8080/"
        },
        "id": "aN2TNH5CxoHr",
        "outputId": "3f00868c-1ec2-49ae-ac4a-41fe91fa145a"
      },
      "source": [
        "tokenizer = Tokenizer(num_words=5000,lower=False)\r\n",
        "tokenizer.fit_on_texts(x_train)\r\n",
        "\r\n",
        "X_train = tokenizer.texts_to_sequences(x_train)\r\n",
        "X_test = tokenizer.texts_to_sequences(x_test)\r\n",
        "print(X_train[20])"
      ],
      "execution_count": null,
      "outputs": [
        {
          "output_type": "stream",
          "text": [
            "[228, 1936, 1564, 102, 541, 2792, 231, 4, 129, 243, 42, 109, 110, 33, 367, 1936, 2, 259, 380, 476, 204, 231, 4, 163, 450, 281, 1286, 8, 96, 147, 352, 465, 100, 2, 1450, 4638, 726, 16, 613, 848, 60, 439, 1470, 394, 1, 26, 281, 823, 584, 11, 1834, 569, 67, 1395, 89, 3511, 507, 96, 147, 352, 465, 82, 228, 1936, 2, 86, 771, 274, 122, 61, 205, 127, 1, 12, 445, 280, 109, 367, 2, 271, 1731, 741, 613]\n"
          ],
          "name": "stdout"
        }
      ]
    },
    {
      "cell_type": "markdown",
      "metadata": {
        "id": "jOyBZCpW0Ynz"
      },
      "source": [
        "If you view the X_train variable in variable explorer, you will see that it contains 40,000 lists where each list contains integers. Each list actually corresponds to each sentence in the training set. You will also notice that the size of each list is different. This is because sentences have different lengths"
      ]
    },
    {
      "cell_type": "code",
      "metadata": {
        "colab": {
          "base_uri": "https://localhost:8080/"
        },
        "id": "FNDPXlaN1jdM",
        "outputId": "b4a237db-18f6-4437-aa80-d07452270faa"
      },
      "source": [
        "vocab_size = len(tokenizer.word_index) + 1\r\n",
        "\r\n",
        "max_review_length=100\r\n",
        "\r\n",
        "X_train = pad_sequences(X_train, padding='post', maxlen=max_review_length)\r\n",
        "X_test = pad_sequences(X_test, padding='post', maxlen=max_review_length)\r\n",
        "print(X_train[10])"
      ],
      "execution_count": null,
      "outputs": [
        {
          "output_type": "stream",
          "text": [
            "[   1  408  134  519  135  135    1  611  821 3392  131   38  551 1334\n",
            "  395 1222  574  574 3379  826   38  551  164 1367  422 1278   13 1786\n",
            "  905  236  135  681   42   70  228  943  959  829    7  139  338   31\n",
            "  138   58    1  451  212   38   35  174    5    1  183  135    4 1639\n",
            " 4027 1051    4  287  128  390  113  179 1154 4373  258 1773    0    0\n",
            "    0    0    0    0    0    0    0    0    0    0    0    0    0    0\n",
            "    0    0    0    0    0    0    0    0    0    0    0    0    0    0\n",
            "    0    0]\n"
          ],
          "name": "stdout"
        }
      ]
    },
    {
      "cell_type": "markdown",
      "metadata": {
        "id": "VsUYXhDSpsmR"
      },
      "source": [
        "# Model building\n"
      ]
    },
    {
      "cell_type": "code",
      "metadata": {
        "id": "J4bJkcZe3Jss"
      },
      "source": [
        "'''Remember that our input is a sequence of words (technically, integer word IDs) of maximum length = max_review_length, and our output is a binary sentiment \r\n",
        "label (0 or 1).'''\r\n",
        "#create the model\r\n",
        "top_words = 5000 #vocabulary_size = 5000\r\n",
        "embedding_vecor_length =32\r\n",
        "max_review_length = 100\r\n",
        "model = Sequential()\r\n",
        "model.add(Embedding(top_words, embedding_vecor_length, input_length=max_review_length))\r\n",
        "model.add(Dropout(0.6))\r\n",
        "model.add(LSTM(64,kernel_regularizer=l2(0.008)))\r\n",
        "model.add(Dropout(0.5))\r\n",
        "model.add(Dense(1, activation='sigmoid'))"
      ],
      "execution_count": null,
      "outputs": []
    },
    {
      "cell_type": "code",
      "metadata": {
        "colab": {
          "base_uri": "https://localhost:8080/"
        },
        "id": "EtW6Ev7m6nfv",
        "outputId": "4807a5e4-bc01-40fb-d85c-96c1497c7271"
      },
      "source": [
        "'''We first need to compile our model by specifying the loss function and optimizer we want to use while training, as well as any evaluation metrics \r\n",
        "we’d like to measure. Specify the appropriate parameters, including at least one metric ‘accuracy’.'''\r\n",
        "\r\n",
        "\r\n",
        "model.compile(loss='binary_crossentropy', optimizer='adam', metrics=['accuracy'])\r\n",
        "print(model.summary())\r\n",
        "\r\n",
        "checkpoint2 =ModelCheckpoint(\"best_model2.hdf5\", monitor='val_accuracy', verbose=1,save_best_only=True, mode='auto', period=1,save_weights_only=False)\r\n",
        "\r\n",
        "\r\n",
        "history=model.fit(X_train, y_train, validation_data=(X_test, y_test), epochs=10, batch_size=32,callbacks=[checkpoint2])"
      ],
      "execution_count": null,
      "outputs": [
        {
          "output_type": "stream",
          "text": [
            "Model: \"sequential_1\"\n",
            "_________________________________________________________________\n",
            "Layer (type)                 Output Shape              Param #   \n",
            "=================================================================\n",
            "embedding_1 (Embedding)      (None, 100, 32)           160000    \n",
            "_________________________________________________________________\n",
            "dropout_2 (Dropout)          (None, 100, 32)           0         \n",
            "_________________________________________________________________\n",
            "lstm_1 (LSTM)                (None, 64)                24832     \n",
            "_________________________________________________________________\n",
            "dropout_3 (Dropout)          (None, 64)                0         \n",
            "_________________________________________________________________\n",
            "dense_1 (Dense)              (None, 1)                 65        \n",
            "=================================================================\n",
            "Total params: 184,897\n",
            "Trainable params: 184,897\n",
            "Non-trainable params: 0\n",
            "_________________________________________________________________\n",
            "None\n",
            "WARNING:tensorflow:`period` argument is deprecated. Please use `save_freq` to specify the frequency in number of batches seen.\n",
            "Epoch 1/10\n",
            "1250/1250 [==============================] - 20s 9ms/step - loss: 0.7304 - accuracy: 0.5500 - val_loss: 0.3711 - val_accuracy: 0.8645\n",
            "\n",
            "Epoch 00001: val_accuracy improved from -inf to 0.86450, saving model to best_model2.hdf5\n",
            "Epoch 2/10\n",
            "1250/1250 [==============================] - 11s 9ms/step - loss: 0.3402 - accuracy: 0.8706 - val_loss: 0.2984 - val_accuracy: 0.8782\n",
            "\n",
            "Epoch 00002: val_accuracy improved from 0.86450 to 0.87820, saving model to best_model2.hdf5\n",
            "Epoch 3/10\n",
            "1250/1250 [==============================] - 12s 10ms/step - loss: 0.2854 - accuracy: 0.8935 - val_loss: 0.2982 - val_accuracy: 0.8818\n",
            "\n",
            "Epoch 00003: val_accuracy improved from 0.87820 to 0.88180, saving model to best_model2.hdf5\n",
            "Epoch 4/10\n",
            "1250/1250 [==============================] - 12s 9ms/step - loss: 0.2656 - accuracy: 0.9023 - val_loss: 0.2942 - val_accuracy: 0.8789\n",
            "\n",
            "Epoch 00004: val_accuracy did not improve from 0.88180\n",
            "Epoch 5/10\n",
            "1250/1250 [==============================] - 11s 9ms/step - loss: 0.2544 - accuracy: 0.9023 - val_loss: 0.2911 - val_accuracy: 0.8764\n",
            "\n",
            "Epoch 00005: val_accuracy did not improve from 0.88180\n",
            "Epoch 6/10\n",
            "1250/1250 [==============================] - 11s 9ms/step - loss: 0.2454 - accuracy: 0.9079 - val_loss: 0.2943 - val_accuracy: 0.8791\n",
            "\n",
            "Epoch 00006: val_accuracy did not improve from 0.88180\n",
            "Epoch 7/10\n",
            "1250/1250 [==============================] - 11s 9ms/step - loss: 0.2402 - accuracy: 0.9126 - val_loss: 0.3152 - val_accuracy: 0.8748\n",
            "\n",
            "Epoch 00007: val_accuracy did not improve from 0.88180\n",
            "Epoch 8/10\n",
            "1250/1250 [==============================] - 12s 9ms/step - loss: 0.2422 - accuracy: 0.9104 - val_loss: 0.3048 - val_accuracy: 0.8760\n",
            "\n",
            "Epoch 00008: val_accuracy did not improve from 0.88180\n",
            "Epoch 9/10\n",
            "1250/1250 [==============================] - 12s 10ms/step - loss: 0.2303 - accuracy: 0.9146 - val_loss: 0.2916 - val_accuracy: 0.8777\n",
            "\n",
            "Epoch 00009: val_accuracy did not improve from 0.88180\n",
            "Epoch 10/10\n",
            "1250/1250 [==============================] - 12s 9ms/step - loss: 0.2227 - accuracy: 0.9183 - val_loss: 0.2989 - val_accuracy: 0.8740\n",
            "\n",
            "Epoch 00010: val_accuracy did not improve from 0.88180\n"
          ],
          "name": "stdout"
        }
      ]
    },
    {
      "cell_type": "code",
      "metadata": {
        "colab": {
          "base_uri": "https://localhost:8080/"
        },
        "id": "vipNN2tx90IY",
        "outputId": "3da6535c-1640-4925-eb95-17d9b55b0b4e"
      },
      "source": [
        "#Calculate Accuracy\r\n",
        "scores = model.evaluate(X_test, y_test, verbose=0)\r\n",
        "print(\"Accuracy: %.2f%%\" % (scores[1]*100))"
      ],
      "execution_count": null,
      "outputs": [
        {
          "output_type": "stream",
          "text": [
            "Accuracy: 88.18%\n"
          ],
          "name": "stdout"
        }
      ]
    },
    {
      "cell_type": "code",
      "metadata": {
        "id": "gwvQfX9xaXDO"
      },
      "source": [
        "def show_train_history(train_history,train,validation):\n",
        "    plt.plot(train_history.history[train])\n",
        "    plt.plot(train_history.history[validation])\n",
        "    plt.title('Train History')\n",
        "    plt.ylabel(train)\n",
        "    plt.xlabel('Epoch')\n",
        "    plt.legend(['train', 'validation'], loc='upper left')\n",
        "    plt.show()"
      ],
      "execution_count": null,
      "outputs": []
    },
    {
      "cell_type": "code",
      "metadata": {
        "id": "bl-YeLeGcZLA"
      },
      "source": [
        "# checkpoint\n",
        "model.compile(loss='binary_crossentropy', optimizer='adam', metrics=['accuracy'])\n",
        "model.load_weights('/content/best_model2.hdf5')"
      ],
      "execution_count": null,
      "outputs": []
    },
    {
      "cell_type": "code",
      "metadata": {
        "colab": {
          "base_uri": "https://localhost:8080/",
          "height": 295
        },
        "id": "oD8Zw4M1dQol",
        "outputId": "4166c549-8286-42e3-ff2b-5636def888a0"
      },
      "source": [
        "#train loss vs validation loss\n",
        "show_train_history(history,'loss','val_loss')"
      ],
      "execution_count": null,
      "outputs": [
        {
          "output_type": "display_data",
          "data": {
            "image/png": "[encoded data removed]",
            "text/plain": [
              "<Figure size 432x288 with 1 Axes>"
            ]
          },
          "metadata": {
            "tags": [],
            "needs_background": "light"
          }
        }
      ]
    },
    {
      "cell_type": "markdown",
      "metadata": {
        "id": "gaZu6sbWdyJQ"
      },
      "source": [
        ""
      ]
    },
    {
      "cell_type": "code",
      "metadata": {
        "colab": {
          "base_uri": "https://localhost:8080/",
          "height": 295
        },
        "id": "M9rdw5lQdulC",
        "outputId": "104dd4ad-44e4-45d9-9de7-211eaab4879d"
      },
      "source": [
        "#Accuracy History\n",
        "show_train_history(history,'accuracy','val_accuracy')"
      ],
      "execution_count": null,
      "outputs": [
        {
          "output_type": "display_data",
          "data": {
            "image/png": "[encoded data removed]",
            "text/plain": [
              "<Figure size 432x288 with 1 Axes>"
            ]
          },
          "metadata": {
            "tags": [],
            "needs_background": "light"
          }
        }
      ]
    },
    {
      "cell_type": "markdown",
      "metadata": {
        "id": "KaaoJWoGk4_l"
      },
      "source": [
        "### testing our model\n",
        "Nothing was typical about this Everything \n",
        "was beautifully done in this movie the story the flow \n",
        "the scenario everything I highly recommend it for mystery \n",
        "lovers for anyone who wants to watch a good movie"
      ]
    },
    {
      "cell_type": "code",
      "metadata": {
        "id": "jiGX3gyUk3uV"
      },
      "source": [
        "#i loved that movie,i liked that movie,i hated that movie\n",
        "review=str(input('Movie Review: '))\n",
        "# Pre-process input\n",
        "regex = re.compile(r'[^a-zA-Z\\s]')\n",
        "review = regex.sub('', review)\n",
        "\n",
        "words = review.split(' ')\n",
        "filtered = [w for w in words if w not in english_stops]\n",
        "filtered = ' '.join(filtered)\n",
        "filtered = [filtered.lower()]\n",
        "tokenize_words = tokenizer.texts_to_sequences(filtered)\n",
        "tokenize_words = pad_sequences(tokenize_words, maxlen=100, padding='post', truncating='post')\n",
        "#print(tokenize_words)\n",
        "print(model.predict(tokenize_words))\n",
        "result=model.predict(tokenize_words)\n",
        "print(review)\n",
        "if result >= 0.7:\n",
        "    print('positive  😊')\n",
        "else:\n",
        "    print('negative  🥺 ')"
      ],
      "execution_count": null,
      "outputs": []
    },
    {
      "cell_type": "markdown",
      "metadata": {
        "id": "ZXQl_jFWJ44v"
      },
      "source": [
        "# BILSTM"
      ]
    },
    {
      "cell_type": "code",
      "metadata": {
        "colab": {
          "base_uri": "https://localhost:8080/"
        },
        "id": "o93TZKE5LzR7",
        "outputId": "29866b30-4549-4afa-d56f-a9aa6f5f8d85"
      },
      "source": [
        "vocab_size=5000\n",
        "bimodel = Sequential()\n",
        "bimodel.add(Embedding(vocab_size,embedding_vecor_length, input_length=max_review_length))\n",
        "bimodel.add(Dropout(0.6))\n",
        "bimodel.add(Bidirectional(LSTM(128,kernel_regularizer=l2(0.008))))\n",
        "bimodel.add(Dropout(0.5))\n",
        "bimodel.add(Dense(1,activation='sigmoid'))\n",
        "bimodel.compile(optimizer='adam',loss='binary_crossentropy',metrics=['accuracy'])\n",
        "bimodel.summary()"
      ],
      "execution_count": null,
      "outputs": [
        {
          "output_type": "stream",
          "text": [
            "Model: \"sequential_12\"\n",
            "_________________________________________________________________\n",
            "Layer (type)                 Output Shape              Param #   \n",
            "=================================================================\n",
            "embedding_12 (Embedding)     (None, 100, 32)           160000    \n",
            "_________________________________________________________________\n",
            "dropout_20 (Dropout)         (None, 100, 32)           0         \n",
            "_________________________________________________________________\n",
            "bidirectional_11 (Bidirectio (None, 256)               164864    \n",
            "_________________________________________________________________\n",
            "dropout_21 (Dropout)         (None, 256)               0         \n",
            "_________________________________________________________________\n",
            "dense_7 (Dense)              (None, 1)                 257       \n",
            "=================================================================\n",
            "Total params: 325,121\n",
            "Trainable params: 325,121\n",
            "Non-trainable params: 0\n",
            "_________________________________________________________________\n"
          ],
          "name": "stdout"
        }
      ]
    },
    {
      "cell_type": "code",
      "metadata": {
        "colab": {
          "base_uri": "https://localhost:8080/"
        },
        "id": "2_781zm3MBUW",
        "outputId": "8db79799-d230-4a29-fd04-4bafff2a7293"
      },
      "source": [
        "\n",
        "bihistory=bimodel.fit(X_train, y_train, validation_data=(X_test, y_test), epochs=10, batch_size=32)\n"
      ],
      "execution_count": null,
      "outputs": [
        {
          "output_type": "stream",
          "text": [
            "Epoch 1/10\n",
            "1250/1250 [==============================] - 21s 15ms/step - loss: 0.7068 - accuracy: 0.6095 - val_loss: 0.3183 - val_accuracy: 0.8745\n",
            "Epoch 2/10\n",
            "1250/1250 [==============================] - 18s 15ms/step - loss: 0.3072 - accuracy: 0.8835 - val_loss: 0.3048 - val_accuracy: 0.8807\n",
            "Epoch 3/10\n",
            "1250/1250 [==============================] - 19s 15ms/step - loss: 0.2799 - accuracy: 0.8950 - val_loss: 0.3222 - val_accuracy: 0.8798\n",
            "Epoch 4/10\n",
            "1250/1250 [==============================] - 19s 15ms/step - loss: 0.2637 - accuracy: 0.9009 - val_loss: 0.3026 - val_accuracy: 0.8748\n",
            "Epoch 5/10\n",
            "1250/1250 [==============================] - 19s 15ms/step - loss: 0.2566 - accuracy: 0.9048 - val_loss: 0.3041 - val_accuracy: 0.8760\n",
            "Epoch 6/10\n",
            "1250/1250 [==============================] - 19s 15ms/step - loss: 0.2522 - accuracy: 0.9071 - val_loss: 0.3068 - val_accuracy: 0.8779\n",
            "Epoch 7/10\n",
            "1250/1250 [==============================] - 19s 15ms/step - loss: 0.2469 - accuracy: 0.9094 - val_loss: 0.3224 - val_accuracy: 0.8755\n",
            "Epoch 8/10\n",
            "1250/1250 [==============================] - 19s 15ms/step - loss: 0.2378 - accuracy: 0.9122 - val_loss: 0.3070 - val_accuracy: 0.8727\n",
            "Epoch 9/10\n",
            "1250/1250 [==============================] - 19s 15ms/step - loss: 0.2362 - accuracy: 0.9124 - val_loss: 0.3069 - val_accuracy: 0.8764\n",
            "Epoch 10/10\n",
            "1250/1250 [==============================] - 19s 15ms/step - loss: 0.2295 - accuracy: 0.9139 - val_loss: 0.3399 - val_accuracy: 0.8728\n"
          ],
          "name": "stdout"
        }
      ]
    },
    {
      "cell_type": "code",
      "metadata": {
        "colab": {
          "base_uri": "https://localhost:8080/",
          "height": 295
        },
        "id": "gkU07GHoMTJF",
        "outputId": "332fc5a5-e1e9-4a1e-83f6-387fd76431b5"
      },
      "source": [
        "show_train_history(bihistory,'loss','val_loss')"
      ],
      "execution_count": null,
      "outputs": [
        {
          "output_type": "display_data",
          "data": {
            "image/png": "[encoded data removed]",
            "text/plain": [
              "<Figure size 432x288 with 1 Axes>"
            ]
          },
          "metadata": {
            "tags": [],
            "needs_background": "light"
          }
        }
      ]
    },
    {
      "cell_type": "code",
      "metadata": {
        "colab": {
          "base_uri": "https://localhost:8080/",
          "height": 295
        },
        "id": "jUcgImoF9TyI",
        "outputId": "16970a9a-7d8e-46ea-a1ea-40f2773bca00"
      },
      "source": [
        "show_train_history(bihistory,'accuracy','val_accuracy')"
      ],
      "execution_count": null,
      "outputs": [
        {
          "output_type": "display_data",
          "data": {
            "image/png": "[encoded data removed]",
            "text/plain": [
              "<Figure size 432x288 with 1 Axes>"
            ]
          },
          "metadata": {
            "tags": [],
            "needs_background": "light"
          }
        }
      ]
    },
    {
      "cell_type": "markdown",
      "metadata": {
        "id": "TosZwUHU0S0V"
      },
      "source": [
        "![thank.png](data:image/png;base64,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)"
      ]
    }
  ]
}